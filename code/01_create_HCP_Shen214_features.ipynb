{
 "cells": [
  {
   "cell_type": "markdown",
   "id": "2471ccf8-12de-4118-835f-95b7d404c560",
   "metadata": {},
   "source": [
    "# Input:\n",
    "connectomes extracted via the fingerprint-toolbox and saved as matfiles\n",
    "\n",
    "# Output:\n",
    "subject x nr parcel x nr parcel feature matrix "
   ]
  },
  {
   "cell_type": "code",
   "execution_count": 4,
   "id": "5a78394c-b59c-45cd-8105-ec3b78f6a91c",
   "metadata": {},
   "outputs": [],
   "source": [
    "import os\n",
    "from os import system as oss\n",
    "import pandas as pd\n",
    "import glob\n",
    "import numpy as np\n",
    "import scipy.io\n",
    "from matplotlib import pyplot as plt\n",
    "import julearn\n",
    "from sklearn.model_selection import train_test_split\n",
    "from sklearn.metrics import mean_absolute_error\n",
    "from julearn import run_cross_validation\n",
    "from julearn.utils import configure_logging"
   ]
  },
  {
   "cell_type": "code",
   "execution_count": null,
   "id": "df2bce7b-3908-4fe4-8b1e-6d2a3ec282bf",
   "metadata": {},
   "outputs": [],
   "source": [
    "## read in fingerprint output files\n",
    "\n",
    "def get_pw_conn_mean(matfile):\n",
    "    \n",
    "    ## xuan \n",
    "    temp = scipy.io.loadmat(input_path[i])\n",
    "    temp_subject = temp[subject_id]\n",
    "    temp_roipair = temp_subject['roipair'][0, 0]\n",
    "    temp_mean = temp_roipair['mean'][0,0]\n",
    "    outp = temp_mean[0]\n",
    "\n",
    "    ## patrick\n",
    "    mat = loadmat(matfile)\n",
    "    key_name = list(mat.keys())[0]\n",
    "    outp = mat[key_name]['roipair']['mean']\n",
    "    \n",
    "    return outp"
   ]
  }
 ],
 "metadata": {
  "kernelspec": {
   "display_name": "julearn_curdev_env_conda_kernel",
   "language": "python",
   "name": "julearn_curdev_env_conda_kernel"
  },
  "language_info": {
   "codemirror_mode": {
    "name": "ipython",
    "version": 3
   },
   "file_extension": ".py",
   "mimetype": "text/x-python",
   "name": "python",
   "nbconvert_exporter": "python",
   "pygments_lexer": "ipython3",
   "version": "3.7.9"
  }
 },
 "nbformat": 4,
 "nbformat_minor": 5
}
